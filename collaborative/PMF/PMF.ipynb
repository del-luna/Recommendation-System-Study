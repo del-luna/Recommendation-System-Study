{
 "cells": [
  {
   "cell_type": "code",
   "execution_count": 43,
   "id": "a0356bcb",
   "metadata": {},
   "outputs": [],
   "source": [
    "import copy\n",
    "import numpy as np\n",
    "import pandas as pd\n",
    "from scipy.sparse import csr_matrix, find\n",
    "from sklearn.model_selection import train_test_split\n",
    "\n",
    "parameters = {\n",
    "    'lambda_a': 1e-2,\n",
    "    'lambda_b': 1e-2,\n",
    "    'momentum': 0.9,\n",
    "    'num_features': 30,\n",
    "    'epochs': 1000,\n",
    "    'lr': 3e-5\n",
    "}\n",
    "\n",
    "df = pd.read_csv('./data/netflix/netflix.csv')\n",
    "df = df.drop(['Unnamed: 0'], axis=1)\n",
    "\n",
    "full_rows = df['user']\n",
    "full_cols = df['movie']\n",
    "full_ratings = df['rating']\n",
    "\n",
    "full_csr = csr_matrix((full_ratings,(full_rows, full_cols)))\n",
    "\n",
    "train, valid = train_test_split(df, test_size=0.4, shuffle=True, random_state=42)\n",
    "valid, test = train_test_split(valid, test_size=0.5, shuffle=True, random_state=42)\n",
    "\n",
    "valid_rows = valid['user']\n",
    "valid_cols = valid['movie']\n",
    "valid_ratings = valid['rating']\n",
    "\n",
    "valid_csr = csr_matrix((valid_ratings, (valid_rows,valid_cols)))"
   ]
  },
  {
   "cell_type": "code",
   "execution_count": 56,
   "id": "ee3a39d3",
   "metadata": {},
   "outputs": [],
   "source": [
    "class PMF():\n",
    "    def __init__(self, full_data, valid_data, params):\n",
    "        self.R = full_data\n",
    "        self._lambda_alpha = params['lambda_a']\n",
    "        self._lambda_beta = params['lambda_b']\n",
    "        self.momentum = params['momentum']\n",
    "        self.num_features = params['num_features']\n",
    "        self.iterations = params['epochs']\n",
    "        self.lr = params['lr']\n",
    "        self.I = copy.deepcopy(self.R)\n",
    "        self.I[self.I != 0] = 1\n",
    "        self.v_rows, self.v_cols, self.v_rat = find(valid_data)\n",
    "        \n",
    "        self.U = 0.1*np.random.randn(self.R.shape[0], self.num_features)\n",
    "        self.V = 0.1*np.random.randn(self.R.shape[1], self.num_features)\n",
    "    \n",
    "\n",
    "    def loss(self):\n",
    "        '''\n",
    "        The Frobenius norm is the same as the L2 norm, \n",
    "        and since the squares are added, the formula is written as follows.\n",
    "        '''\n",
    "        loss = np.sum(self.I*(self.R-np.dot(self.U, self.V.T))**2) + self._lambda_alpha*np.sum(np.square(self.U)) + self.lambda_beta*np.sum(np.square(self.V))\n",
    "        return loss\n",
    "    \n",
    "    def predict(self):\n",
    "        '''\n",
    "        Validation-only function\n",
    "        '''\n",
    "        u_features = self.U.take(self.v_rows, axis=0)\n",
    "        v_features = self.V.take(self.v_cols, axis=0)\n",
    "        preds_value_array = np.sum(u_features*v_features, 1)\n",
    "        return preds_value_array\n",
    "    \n",
    "    def train(self):\n",
    "        \n",
    "        train_loss_list = []\n",
    "        vali_rmse_list = []\n",
    "        last_vali_rmse = None\n",
    "\n",
    "        # monemtum\n",
    "        momuntum_u = np.zeros(self.U.shape)\n",
    "        momuntum_v = np.zeros(self.V.shape)\n",
    "\n",
    "        for it in range(self.iterations):\n",
    "            # derivate of Vi\n",
    "            import pdb;pdb.set_trace()\n",
    "            grads_u = np.dot(self.I*(self.R-np.dot(self.U, self.V.T)), -self.V) + self._lambda_alpha*self.U\n",
    "\n",
    "            # derivate of Tj\n",
    "            grads_v = np.dot((self.I*(self.R-np.dot(self.U, self.V.T))).T, -self.U) + self._lambda_beta*self.V\n",
    "\n",
    "            # update the parameters\n",
    "            momuntum_u = (self.momuntum * momuntum_u) + self.lr * grads_u\n",
    "            momuntum_v = (self.momuntum * momuntum_v) + self.lr * grads_v\n",
    "            self.U = self.U - momuntum_u\n",
    "            self.V = self.V - momuntum_v\n",
    "\n",
    "            # training evaluation\n",
    "            train_loss = self.loss()\n",
    "            train_loss_list.append(train_loss)\n",
    "\n",
    "            vali_preds = self.predict()\n",
    "            vali_rmse = RMSE(self.v_rats, vali_preds)\n",
    "            vali_rmse_list.append(vali_rmse)\n",
    "\n",
    "            print('traning iteration:{: d} ,loss:{: f}, vali_rmse:{: f}'.format(it, train_loss, vali_rmse))\n",
    "\n",
    "            if last_vali_rmse and (last_vali_rmse - vali_rmse) <= 0:\n",
    "                print('convergence at iterations:{: d}'.format(it))\n",
    "                break\n",
    "            else:\n",
    "                last_vali_rmse = vali_rmse\n",
    "\n",
    "        return self.U, self.V, train_loss_list, vali_rmse_list"
   ]
  },
  {
   "cell_type": "code",
   "execution_count": 57,
   "id": "a7600b7b",
   "metadata": {},
   "outputs": [],
   "source": [
    "model = PMF(full_csr, valid_csr, params=parameters)"
   ]
  },
  {
   "cell_type": "code",
   "execution_count": 58,
   "id": "cd9e1166",
   "metadata": {
    "scrolled": true
   },
   "outputs": [
    {
     "name": "stdout",
     "output_type": "stream",
     "text": [
      "> \u001b[1;32m<ipython-input-56-0f6bfdef95ba>\u001b[0m(48)\u001b[0;36mtrain\u001b[1;34m()\u001b[0m\n",
      "\u001b[1;32m     46 \u001b[1;33m            \u001b[1;31m# derivate of Vi\u001b[0m\u001b[1;33m\u001b[0m\u001b[1;33m\u001b[0m\u001b[1;33m\u001b[0m\u001b[0m\n",
      "\u001b[0m\u001b[1;32m     47 \u001b[1;33m            \u001b[1;32mimport\u001b[0m \u001b[0mpdb\u001b[0m\u001b[1;33m;\u001b[0m\u001b[0mpdb\u001b[0m\u001b[1;33m.\u001b[0m\u001b[0mset_trace\u001b[0m\u001b[1;33m(\u001b[0m\u001b[1;33m)\u001b[0m\u001b[1;33m\u001b[0m\u001b[1;33m\u001b[0m\u001b[0m\n",
      "\u001b[0m\u001b[1;32m---> 48 \u001b[1;33m            \u001b[0mgrads_u\u001b[0m \u001b[1;33m=\u001b[0m \u001b[0mnp\u001b[0m\u001b[1;33m.\u001b[0m\u001b[0mdot\u001b[0m\u001b[1;33m(\u001b[0m\u001b[0mself\u001b[0m\u001b[1;33m.\u001b[0m\u001b[0mI\u001b[0m\u001b[1;33m*\u001b[0m\u001b[1;33m(\u001b[0m\u001b[0mself\u001b[0m\u001b[1;33m.\u001b[0m\u001b[0mR\u001b[0m\u001b[1;33m-\u001b[0m\u001b[0mnp\u001b[0m\u001b[1;33m.\u001b[0m\u001b[0mdot\u001b[0m\u001b[1;33m(\u001b[0m\u001b[0mself\u001b[0m\u001b[1;33m.\u001b[0m\u001b[0mU\u001b[0m\u001b[1;33m,\u001b[0m \u001b[0mself\u001b[0m\u001b[1;33m.\u001b[0m\u001b[0mV\u001b[0m\u001b[1;33m.\u001b[0m\u001b[0mT\u001b[0m\u001b[1;33m)\u001b[0m\u001b[1;33m)\u001b[0m\u001b[1;33m,\u001b[0m \u001b[1;33m-\u001b[0m\u001b[0mself\u001b[0m\u001b[1;33m.\u001b[0m\u001b[0mV\u001b[0m\u001b[1;33m)\u001b[0m \u001b[1;33m+\u001b[0m \u001b[0mself\u001b[0m\u001b[1;33m.\u001b[0m\u001b[0m_lambda_alpha\u001b[0m\u001b[1;33m*\u001b[0m\u001b[0mself\u001b[0m\u001b[1;33m.\u001b[0m\u001b[0mU\u001b[0m\u001b[1;33m\u001b[0m\u001b[1;33m\u001b[0m\u001b[0m\n",
      "\u001b[0m\u001b[1;32m     49 \u001b[1;33m\u001b[1;33m\u001b[0m\u001b[0m\n",
      "\u001b[0m\u001b[1;32m     50 \u001b[1;33m            \u001b[1;31m# derivate of Tj\u001b[0m\u001b[1;33m\u001b[0m\u001b[1;33m\u001b[0m\u001b[1;33m\u001b[0m\u001b[0m\n",
      "\u001b[0m\n",
      "ipdb> self.I\n",
      "<2649430x17771 sparse matrix of type '<class 'numpy.int64'>'\n",
      "\twith 100480507 stored elements in Compressed Sparse Row format>\n",
      "ipdb> (self.R-np.dot(self.U, self.V.T))\n",
      "*** numpy.core._exceptions._ArrayMemoryError: Unable to allocate 351. GiB for an array with shape (2649430, 17771) and data type float64\n",
      "ipdb> np.dot(self.U, self.V.T)\n",
      "*** numpy.core._exceptions._ArrayMemoryError: Unable to allocate 351. GiB for an array with shape (2649430, 17771) and data type float64\n",
      "ipdb> self.U.shape\n",
      "(2649430, 30)\n",
      "ipdb> self.V.T.shape\n",
      "(30, 17771)\n",
      "ipdb> np.matmul(self.U, self.V.T)\n",
      "*** numpy.core._exceptions._ArrayMemoryError: Unable to allocate 351. GiB for an array with shape (2649430, 17771) and data type float64\n",
      "ipdb> self.I\n",
      "<2649430x17771 sparse matrix of type '<class 'numpy.int64'>'\n",
      "\twith 100480507 stored elements in Compressed Sparse Row format>\n",
      "ipdb> q\n"
     ]
    },
    {
     "ename": "BdbQuit",
     "evalue": "",
     "output_type": "error",
     "traceback": [
      "\u001b[1;31m---------------------------------------------------------------------------\u001b[0m",
      "\u001b[1;31mBdbQuit\u001b[0m                                   Traceback (most recent call last)",
      "\u001b[1;32m<timed exec>\u001b[0m in \u001b[0;36m<module>\u001b[1;34m\u001b[0m\n",
      "\u001b[1;32m<ipython-input-56-0f6bfdef95ba>\u001b[0m in \u001b[0;36mtrain\u001b[1;34m(self)\u001b[0m\n\u001b[0;32m     46\u001b[0m             \u001b[1;31m# derivate of Vi\u001b[0m\u001b[1;33m\u001b[0m\u001b[1;33m\u001b[0m\u001b[1;33m\u001b[0m\u001b[0m\n\u001b[0;32m     47\u001b[0m             \u001b[1;32mimport\u001b[0m \u001b[0mpdb\u001b[0m\u001b[1;33m;\u001b[0m\u001b[0mpdb\u001b[0m\u001b[1;33m.\u001b[0m\u001b[0mset_trace\u001b[0m\u001b[1;33m(\u001b[0m\u001b[1;33m)\u001b[0m\u001b[1;33m\u001b[0m\u001b[1;33m\u001b[0m\u001b[0m\n\u001b[1;32m---> 48\u001b[1;33m             \u001b[0mgrads_u\u001b[0m \u001b[1;33m=\u001b[0m \u001b[0mnp\u001b[0m\u001b[1;33m.\u001b[0m\u001b[0mdot\u001b[0m\u001b[1;33m(\u001b[0m\u001b[0mself\u001b[0m\u001b[1;33m.\u001b[0m\u001b[0mI\u001b[0m\u001b[1;33m*\u001b[0m\u001b[1;33m(\u001b[0m\u001b[0mself\u001b[0m\u001b[1;33m.\u001b[0m\u001b[0mR\u001b[0m\u001b[1;33m-\u001b[0m\u001b[0mnp\u001b[0m\u001b[1;33m.\u001b[0m\u001b[0mdot\u001b[0m\u001b[1;33m(\u001b[0m\u001b[0mself\u001b[0m\u001b[1;33m.\u001b[0m\u001b[0mU\u001b[0m\u001b[1;33m,\u001b[0m \u001b[0mself\u001b[0m\u001b[1;33m.\u001b[0m\u001b[0mV\u001b[0m\u001b[1;33m.\u001b[0m\u001b[0mT\u001b[0m\u001b[1;33m)\u001b[0m\u001b[1;33m)\u001b[0m\u001b[1;33m,\u001b[0m \u001b[1;33m-\u001b[0m\u001b[0mself\u001b[0m\u001b[1;33m.\u001b[0m\u001b[0mV\u001b[0m\u001b[1;33m)\u001b[0m \u001b[1;33m+\u001b[0m \u001b[0mself\u001b[0m\u001b[1;33m.\u001b[0m\u001b[0m_lambda_alpha\u001b[0m\u001b[1;33m*\u001b[0m\u001b[0mself\u001b[0m\u001b[1;33m.\u001b[0m\u001b[0mU\u001b[0m\u001b[1;33m\u001b[0m\u001b[1;33m\u001b[0m\u001b[0m\n\u001b[0m\u001b[0;32m     49\u001b[0m \u001b[1;33m\u001b[0m\u001b[0m\n\u001b[0;32m     50\u001b[0m             \u001b[1;31m# derivate of Tj\u001b[0m\u001b[1;33m\u001b[0m\u001b[1;33m\u001b[0m\u001b[1;33m\u001b[0m\u001b[0m\n",
      "\u001b[1;32m<ipython-input-56-0f6bfdef95ba>\u001b[0m in \u001b[0;36mtrain\u001b[1;34m(self)\u001b[0m\n\u001b[0;32m     46\u001b[0m             \u001b[1;31m# derivate of Vi\u001b[0m\u001b[1;33m\u001b[0m\u001b[1;33m\u001b[0m\u001b[1;33m\u001b[0m\u001b[0m\n\u001b[0;32m     47\u001b[0m             \u001b[1;32mimport\u001b[0m \u001b[0mpdb\u001b[0m\u001b[1;33m;\u001b[0m\u001b[0mpdb\u001b[0m\u001b[1;33m.\u001b[0m\u001b[0mset_trace\u001b[0m\u001b[1;33m(\u001b[0m\u001b[1;33m)\u001b[0m\u001b[1;33m\u001b[0m\u001b[1;33m\u001b[0m\u001b[0m\n\u001b[1;32m---> 48\u001b[1;33m             \u001b[0mgrads_u\u001b[0m \u001b[1;33m=\u001b[0m \u001b[0mnp\u001b[0m\u001b[1;33m.\u001b[0m\u001b[0mdot\u001b[0m\u001b[1;33m(\u001b[0m\u001b[0mself\u001b[0m\u001b[1;33m.\u001b[0m\u001b[0mI\u001b[0m\u001b[1;33m*\u001b[0m\u001b[1;33m(\u001b[0m\u001b[0mself\u001b[0m\u001b[1;33m.\u001b[0m\u001b[0mR\u001b[0m\u001b[1;33m-\u001b[0m\u001b[0mnp\u001b[0m\u001b[1;33m.\u001b[0m\u001b[0mdot\u001b[0m\u001b[1;33m(\u001b[0m\u001b[0mself\u001b[0m\u001b[1;33m.\u001b[0m\u001b[0mU\u001b[0m\u001b[1;33m,\u001b[0m \u001b[0mself\u001b[0m\u001b[1;33m.\u001b[0m\u001b[0mV\u001b[0m\u001b[1;33m.\u001b[0m\u001b[0mT\u001b[0m\u001b[1;33m)\u001b[0m\u001b[1;33m)\u001b[0m\u001b[1;33m,\u001b[0m \u001b[1;33m-\u001b[0m\u001b[0mself\u001b[0m\u001b[1;33m.\u001b[0m\u001b[0mV\u001b[0m\u001b[1;33m)\u001b[0m \u001b[1;33m+\u001b[0m \u001b[0mself\u001b[0m\u001b[1;33m.\u001b[0m\u001b[0m_lambda_alpha\u001b[0m\u001b[1;33m*\u001b[0m\u001b[0mself\u001b[0m\u001b[1;33m.\u001b[0m\u001b[0mU\u001b[0m\u001b[1;33m\u001b[0m\u001b[1;33m\u001b[0m\u001b[0m\n\u001b[0m\u001b[0;32m     49\u001b[0m \u001b[1;33m\u001b[0m\u001b[0m\n\u001b[0;32m     50\u001b[0m             \u001b[1;31m# derivate of Tj\u001b[0m\u001b[1;33m\u001b[0m\u001b[1;33m\u001b[0m\u001b[1;33m\u001b[0m\u001b[0m\n",
      "\u001b[1;32mc:\\users\\user\\anaconda3\\envs\\torch\\lib\\bdb.py\u001b[0m in \u001b[0;36mtrace_dispatch\u001b[1;34m(self, frame, event, arg)\u001b[0m\n\u001b[0;32m     86\u001b[0m             \u001b[1;32mreturn\u001b[0m \u001b[1;31m# None\u001b[0m\u001b[1;33m\u001b[0m\u001b[1;33m\u001b[0m\u001b[0m\n\u001b[0;32m     87\u001b[0m         \u001b[1;32mif\u001b[0m \u001b[0mevent\u001b[0m \u001b[1;33m==\u001b[0m \u001b[1;34m'line'\u001b[0m\u001b[1;33m:\u001b[0m\u001b[1;33m\u001b[0m\u001b[1;33m\u001b[0m\u001b[0m\n\u001b[1;32m---> 88\u001b[1;33m             \u001b[1;32mreturn\u001b[0m \u001b[0mself\u001b[0m\u001b[1;33m.\u001b[0m\u001b[0mdispatch_line\u001b[0m\u001b[1;33m(\u001b[0m\u001b[0mframe\u001b[0m\u001b[1;33m)\u001b[0m\u001b[1;33m\u001b[0m\u001b[1;33m\u001b[0m\u001b[0m\n\u001b[0m\u001b[0;32m     89\u001b[0m         \u001b[1;32mif\u001b[0m \u001b[0mevent\u001b[0m \u001b[1;33m==\u001b[0m \u001b[1;34m'call'\u001b[0m\u001b[1;33m:\u001b[0m\u001b[1;33m\u001b[0m\u001b[1;33m\u001b[0m\u001b[0m\n\u001b[0;32m     90\u001b[0m             \u001b[1;32mreturn\u001b[0m \u001b[0mself\u001b[0m\u001b[1;33m.\u001b[0m\u001b[0mdispatch_call\u001b[0m\u001b[1;33m(\u001b[0m\u001b[0mframe\u001b[0m\u001b[1;33m,\u001b[0m \u001b[0marg\u001b[0m\u001b[1;33m)\u001b[0m\u001b[1;33m\u001b[0m\u001b[1;33m\u001b[0m\u001b[0m\n",
      "\u001b[1;32mc:\\users\\user\\anaconda3\\envs\\torch\\lib\\bdb.py\u001b[0m in \u001b[0;36mdispatch_line\u001b[1;34m(self, frame)\u001b[0m\n\u001b[0;32m    111\u001b[0m         \u001b[1;32mif\u001b[0m \u001b[0mself\u001b[0m\u001b[1;33m.\u001b[0m\u001b[0mstop_here\u001b[0m\u001b[1;33m(\u001b[0m\u001b[0mframe\u001b[0m\u001b[1;33m)\u001b[0m \u001b[1;32mor\u001b[0m \u001b[0mself\u001b[0m\u001b[1;33m.\u001b[0m\u001b[0mbreak_here\u001b[0m\u001b[1;33m(\u001b[0m\u001b[0mframe\u001b[0m\u001b[1;33m)\u001b[0m\u001b[1;33m:\u001b[0m\u001b[1;33m\u001b[0m\u001b[1;33m\u001b[0m\u001b[0m\n\u001b[0;32m    112\u001b[0m             \u001b[0mself\u001b[0m\u001b[1;33m.\u001b[0m\u001b[0muser_line\u001b[0m\u001b[1;33m(\u001b[0m\u001b[0mframe\u001b[0m\u001b[1;33m)\u001b[0m\u001b[1;33m\u001b[0m\u001b[1;33m\u001b[0m\u001b[0m\n\u001b[1;32m--> 113\u001b[1;33m             \u001b[1;32mif\u001b[0m \u001b[0mself\u001b[0m\u001b[1;33m.\u001b[0m\u001b[0mquitting\u001b[0m\u001b[1;33m:\u001b[0m \u001b[1;32mraise\u001b[0m \u001b[0mBdbQuit\u001b[0m\u001b[1;33m\u001b[0m\u001b[1;33m\u001b[0m\u001b[0m\n\u001b[0m\u001b[0;32m    114\u001b[0m         \u001b[1;32mreturn\u001b[0m \u001b[0mself\u001b[0m\u001b[1;33m.\u001b[0m\u001b[0mtrace_dispatch\u001b[0m\u001b[1;33m\u001b[0m\u001b[1;33m\u001b[0m\u001b[0m\n\u001b[0;32m    115\u001b[0m \u001b[1;33m\u001b[0m\u001b[0m\n",
      "\u001b[1;31mBdbQuit\u001b[0m: "
     ]
    }
   ],
   "source": [
    "%%time\n",
    "U, V, train_loss_list, vali_rmse_list = model.train()"
   ]
  },
  {
   "cell_type": "markdown",
   "id": "db89c00e",
   "metadata": {},
   "source": [
    "MF 쓰고나면 Latent Matrix간의 내적으로 인해 결국 엄청 큰 DenseMatrix 나오게됨<br>\n",
    "근데 이거 메모리 터짐 어케해결?<br>\n",
    "일단 라이브러리 소스 참고해보기."
   ]
  },
  {
   "cell_type": "code",
   "execution_count": null,
   "id": "9ecb4097",
   "metadata": {},
   "outputs": [],
   "source": []
  },
  {
   "cell_type": "code",
   "execution_count": null,
   "id": "27456099",
   "metadata": {},
   "outputs": [],
   "source": []
  },
  {
   "cell_type": "code",
   "execution_count": null,
   "id": "c9a647e9",
   "metadata": {},
   "outputs": [],
   "source": []
  }
 ],
 "metadata": {
  "kernelspec": {
   "display_name": "Python 3",
   "language": "python",
   "name": "python3"
  },
  "language_info": {
   "codemirror_mode": {
    "name": "ipython",
    "version": 3
   },
   "file_extension": ".py",
   "mimetype": "text/x-python",
   "name": "python",
   "nbconvert_exporter": "python",
   "pygments_lexer": "ipython3",
   "version": "3.8.8"
  }
 },
 "nbformat": 4,
 "nbformat_minor": 5
}
